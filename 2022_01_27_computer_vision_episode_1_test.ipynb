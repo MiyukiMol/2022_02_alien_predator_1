{
 "cells": [
  {
   "cell_type": "markdown",
   "id": "1643fd6e",
   "metadata": {},
   "source": [
    "# Etude sur Alien vs. Predator - épisode 1"
   ]
  },
  {
   "cell_type": "markdown",
   "id": "21b44b99",
   "metadata": {},
   "source": [
    "Développer un programme de vision par ordinateur capable de différencier avec précision un Alien d'un Predator."
   ]
  },
  {
   "cell_type": "markdown",
   "id": "0e89cae9",
   "metadata": {},
   "source": [
    "L'avenir de l'espère humaine est donc entre les mains de la Promo 2 de Rennes de l'école Microsoft IA by Simplon qui doit développer un programme de vision par ordinateur capable de distinguer un Alien d'un Prédator et ainsi choisir la bonne application à utiliser pour se débarrasser de l'extraterrestre.\n",
    "\n",
    "Pour cela, utiliser la démarche suivante :\n",
    "\n",
    "    1. Télécharger le dataset adéquat sur le répertoire Teams de la promotion ;\n",
    "    2. Implémenter et entrainer un CNN en utilisant la librairie Keras. Son architecture est la suivante :\n",
    "    \n",
    "        ayers.Conv2D(filters=16, kernel_size=3, strides=1, activation='relu', input_shape=(150, 150, 3))\n",
    "        layers.MaxPooling2D(pool_size=(2, 2))\n",
    "        layers.Conv2D(filters=32, kernel_size=3, strides=1, activation='relu')\n",
    "        layers.MaxPooling2D(pool_size=(2, 2))\n",
    "        layers.Conv2D(filters=64, kernel_size=3, strides=1, activation='relu')\n",
    "        layers.MaxPooling2D(pool_size=(2, 2))\n",
    "        layers.Flatten()\n",
    "        layers.Dense(units=512, activation='relu')\n",
    "        layers.Dense(units=1, activation='sigmoid')\n",
    "        \n",
    "    3.L'entrainer en mode full batch sur 100 epoch ;\n",
    "    4.Conclure.\n",
    "\n"
   ]
  },
  {
   "cell_type": "markdown",
   "id": "eef93f22",
   "metadata": {},
   "source": [
    "### 1 - import librarys"
   ]
  },
  {
   "cell_type": "code",
   "execution_count": 1,
   "id": "69792c08",
   "metadata": {},
   "outputs": [],
   "source": [
    "import pandas as pd\n",
    "import numpy as np\n",
    "import matplotlib.pyplot as plt\n",
    "import seaborn as sns\n",
    "import os\n",
    "from tensorflow.keras.models import load_model\n",
    "from tensorflow.keras.preprocessing.image import load_img, img_to_array\n",
    "import random\n",
    "from sklearn.metrics import confusion_matrix\n",
    "import tensorflow\n",
    "from tensorflow.keras.preprocessing.image import ImageDataGenerator"
   ]
  },
  {
   "cell_type": "markdown",
   "id": "5f25cf84",
   "metadata": {},
   "source": [
    "### 2 - set option pour l'affichage"
   ]
  },
  {
   "cell_type": "code",
   "execution_count": 2,
   "id": "63a5e25f",
   "metadata": {},
   "outputs": [],
   "source": [
    "pd.set_option(\"max_columns\", None)\n",
    "pd.set_option(\"max_colwidth\", None)\n",
    "pd.set_option(\"max_row\", 500)"
   ]
  },
  {
   "cell_type": "markdown",
   "id": "a26e237f",
   "metadata": {},
   "source": [
    "### 3 - charger des images"
   ]
  },
  {
   "cell_type": "code",
   "execution_count": 3,
   "id": "406094b2",
   "metadata": {},
   "outputs": [],
   "source": [
    "dataset_dir = 'Data/'\n",
    "\n",
    "TRAINING_DIR = dataset_dir + 'Train/'\n",
    "VALIDATION_DIR = dataset_dir + 'Validation/'\n",
    "TEST_DIR = dataset_dir + 'Test/'"
   ]
  },
  {
   "cell_type": "code",
   "execution_count": 4,
   "id": "ed5f09b2",
   "metadata": {},
   "outputs": [],
   "source": [
    "datagen = ImageDataGenerator()"
   ]
  },
  {
   "cell_type": "code",
   "execution_count": 5,
   "id": "7d843f26",
   "metadata": {},
   "outputs": [
    {
     "name": "stdout",
     "output_type": "stream",
     "text": [
      "Found 200 images belonging to 2 classes.\n"
     ]
    }
   ],
   "source": [
    "generator_test = datagen.flow_from_directory(TEST_DIR,\n",
    "                                            target_size = (150, 150),\n",
    "                                            batch_size = 200,\n",
    "                                            class_mode=\"binary\"\n",
    "                                            )"
   ]
  },
  {
   "cell_type": "code",
   "execution_count": 6,
   "id": "d72962d7",
   "metadata": {},
   "outputs": [],
   "source": [
    "#y_test=X_test.classes\n",
    "X_test = generator_test[0][0]\n",
    "y_test = generator_test[0][1]"
   ]
  },
  {
   "cell_type": "code",
   "execution_count": 7,
   "id": "c25c086c",
   "metadata": {},
   "outputs": [
    {
     "data": {
      "text/plain": [
       "(200,)"
      ]
     },
     "execution_count": 7,
     "metadata": {},
     "output_type": "execute_result"
    }
   ],
   "source": [
    "y_test.shape"
   ]
  },
  {
   "cell_type": "code",
   "execution_count": 8,
   "id": "4272060b",
   "metadata": {},
   "outputs": [],
   "source": [
    "model = load_model('model')"
   ]
  },
  {
   "cell_type": "code",
   "execution_count": 9,
   "id": "b3c72b7e",
   "metadata": {},
   "outputs": [],
   "source": [
    "y_test_pred = model.predict(X_test)"
   ]
  },
  {
   "cell_type": "code",
   "execution_count": 10,
   "id": "e73937aa",
   "metadata": {},
   "outputs": [],
   "source": [
    "# y_test_pred"
   ]
  },
  {
   "cell_type": "code",
   "execution_count": 11,
   "id": "d4135175",
   "metadata": {},
   "outputs": [],
   "source": [
    "y_test_pred  = y_test_pred > 0.5"
   ]
  },
  {
   "cell_type": "code",
   "execution_count": 12,
   "id": "d6c33167",
   "metadata": {},
   "outputs": [],
   "source": [
    "# y_test_pred"
   ]
  },
  {
   "cell_type": "code",
   "execution_count": 13,
   "id": "f9f5c77b",
   "metadata": {},
   "outputs": [
    {
     "data": {
      "text/plain": [
       "array([[54, 46],\n",
       "       [35, 65]], dtype=int64)"
      ]
     },
     "execution_count": 13,
     "metadata": {},
     "output_type": "execute_result"
    }
   ],
   "source": [
    "cm_test = confusion_matrix(y_test, y_test_pred)\n",
    "cm_test"
   ]
  },
  {
   "cell_type": "code",
   "execution_count": 14,
   "id": "4838fc50",
   "metadata": {},
   "outputs": [
    {
     "data": {
      "image/png": "[encoded data removed]",
      "text/plain": [
       "<Figure size 432x288 with 2 Axes>"
      ]
     },
     "metadata": {
      "needs_background": "light"
     },
     "output_type": "display_data"
    }
   ],
   "source": [
    "ax= plt.subplot()\n",
    "\n",
    "group_names = ['True_Neg','False_Pos','False_Neg','True_Pos']\n",
    "group_counts = [\"{0:0.0f}\".format(value) for value in cm_test.flatten()]\n",
    "group_percentages1 = [\"{0:.3%}\".format(value) for value in cm_test.flatten()[0:2]/np.sum(cm_test.flatten()[0:2])]\n",
    "group_percentages2 = [\"{0:.3%}\".format(value) for value in cm_test.flatten()[2:]/np.sum(cm_test.flatten()[2:])]\n",
    "group_percentages = np.append(group_percentages1, group_percentages2).tolist()\n",
    "labels = [f\"{v1}\\n{v2}\\n{v3}\" for v1, v2, v3 in zip (group_names, group_counts, group_percentages)]\n",
    "labels = np.array(labels).reshape(2,2)\n",
    "\n",
    "sns.heatmap(cm_test, annot=labels, fmt='', cmap='Blues')\n",
    "\n",
    "ax.set_xlabel('Predited labels')\n",
    "ax.set_ylabel('True labels') \n",
    "ax.set_title('Confusion Matrix Test') \n",
    "\n",
    "plt.show()"
   ]
  },
  {
   "cell_type": "code",
   "execution_count": 15,
   "id": "0b8890b2",
   "metadata": {},
   "outputs": [],
   "source": [
    "from sklearn.metrics import classification_report"
   ]
  },
  {
   "cell_type": "code",
   "execution_count": 16,
   "id": "5c3e0431",
   "metadata": {},
   "outputs": [
    {
     "name": "stdout",
     "output_type": "stream",
     "text": [
      "              precision    recall  f1-score   support\n",
      "\n",
      "     Alien 0       0.61      0.54      0.57       100\n",
      "  Predator 1       0.59      0.65      0.62       100\n",
      "\n",
      "    accuracy                           0.59       200\n",
      "   macro avg       0.60      0.59      0.59       200\n",
      "weighted avg       0.60      0.59      0.59       200\n",
      "\n"
     ]
    }
   ],
   "source": [
    "target_names = ['Alien 0', 'Predator 1']\n",
    "print(classification_report(y_test, y_test_pred, target_names=target_names))"
   ]
  },
  {
   "cell_type": "code",
   "execution_count": 17,
   "id": "dbaa330e",
   "metadata": {},
   "outputs": [
    {
     "name": "stdout",
     "output_type": "stream",
     "text": [
      "0.595\n"
     ]
    }
   ],
   "source": [
    "accuracy_score_keras = tensorflow.keras.metrics.BinaryAccuracy()\n",
    "accuracy_score_keras.update_state(y_test, y_test_pred)\n",
    "print(accuracy_score_keras.result().numpy())"
   ]
  },
  {
   "cell_type": "markdown",
   "id": "3d8b42fd",
   "metadata": {},
   "source": [
    "Courbe ROC, AUC"
   ]
  },
  {
   "cell_type": "code",
   "execution_count": 18,
   "id": "8d9606ee",
   "metadata": {},
   "outputs": [
    {
     "data": {
      "text/plain": [
       "0.59499997"
      ]
     },
     "execution_count": 18,
     "metadata": {},
     "output_type": "execute_result"
    }
   ],
   "source": [
    "AUC_keras = tensorflow.keras.metrics.AUC()\n",
    "AUC_keras.update_state(y_test, y_test_pred)\n",
    "AUC_keras.result().numpy()"
   ]
  },
  {
   "cell_type": "code",
   "execution_count": 19,
   "id": "c116b6ab",
   "metadata": {},
   "outputs": [
    {
     "data": {
      "image/png": "[encoded data removed]",
      "text/plain": [
       "<Figure size 432x288 with 1 Axes>"
      ]
     },
     "metadata": {
      "needs_background": "light"
     },
     "output_type": "display_data"
    }
   ],
   "source": [
    "#COURBE ROC\n",
    "\n",
    "FP_rate = []\n",
    "TP_rate = []\n",
    "\n",
    "for seuil in AUC_keras.thresholds[1:-1] :\n",
    "    FP_rate_seuil = tensorflow.keras.metrics.FalsePositives(thresholds=seuil)\n",
    "    FP_rate_seuil.update_state(y_test, model.predict(X_test).flatten())\n",
    "    \n",
    "    FP_rate.append(FP_rate_seuil.result().numpy())\n",
    "    \n",
    "    \n",
    "    TP_rate_seuil = tensorflow.keras.metrics.TruePositives(thresholds=seuil)\n",
    "    TP_rate_seuil.update_state(y_test, model.predict(X_test).flatten())\n",
    "    \n",
    "    TP_rate.append(TP_rate_seuil.result().numpy())\n",
    "\n",
    "    \n",
    "    \n",
    "#print(TP_rate)\n",
    "#print(FP_rate)\n",
    "    \n",
    "fig = plt.figure()\n",
    "plt.plot(FP_rate, TP_rate)\n",
    "plt.xlabel('FP_rate: False positive rate')\n",
    "plt.ylabel('TP_rate: True positive rate')\n",
    "plt.show()   "
   ]
  },
  {
   "cell_type": "code",
   "execution_count": 21,
   "id": "cf01a128",
   "metadata": {},
   "outputs": [],
   "source": [
    "from sklearn.metrics import roc_curve\n",
    "from sklearn.metrics import auc"
   ]
  },
  {
   "cell_type": "code",
   "execution_count": 22,
   "id": "cf4cc6db",
   "metadata": {},
   "outputs": [
    {
     "name": "stdout",
     "output_type": "stream",
     "text": [
      "AUC_test : 0.595\n"
     ]
    }
   ],
   "source": [
    "fpr, tpr, thresholds = roc_curve(y_test, y_test_pred)\n",
    "roc_auc = auc(fpr, tpr)\n",
    "auc = auc(fpr, tpr)\n",
    "print('AUC_test : {:.3f}'.format(roc_auc))"
   ]
  },
  {
   "cell_type": "code",
   "execution_count": 24,
   "id": "7a28462a",
   "metadata": {},
   "outputs": [
    {
     "data": {
      "image/png": "[encoded data removed]",
      "text/plain": [
       "<Figure size 432x288 with 1 Axes>"
      ]
     },
     "metadata": {
      "needs_background": "light"
     },
     "output_type": "display_data"
    }
   ],
   "source": [
    "plt.plot(fpr, tpr, label='ROC curve (area = %.2f)'%auc)\n",
    "plt.legend()\n",
    "plt.xlabel('FPR: False positive rate')\n",
    "plt.ylabel('TPR: True positive rate')\n",
    "plt.grid()\n",
    "plt.show()"
   ]
  },
  {
   "cell_type": "markdown",
   "id": "84ff2db6",
   "metadata": {},
   "source": [
    "### observation : \n",
    "    le resultat de ce modèle n'est pas bon car il n'y a pas assez d'images -  données, donc nous allons étudier d'augumenter des nombres d'image pour la suite dans l'episode 2."
   ]
  },
  {
   "cell_type": "markdown",
   "id": "9d35969e",
   "metadata": {},
   "source": [
    "#### test avec model_cv2"
   ]
  },
  {
   "cell_type": "code",
   "execution_count": 25,
   "id": "69ddbbd5",
   "metadata": {},
   "outputs": [],
   "source": [
    "model_cv2 = load_model('model_cv2')"
   ]
  },
  {
   "cell_type": "code",
   "execution_count": 26,
   "id": "e71fb3c4",
   "metadata": {},
   "outputs": [],
   "source": [
    "y_test_pred_cv2 = model.predict(X_test)\n",
    "y_test_pred_cv2  = y_test_pred_cv2 > 0.5"
   ]
  },
  {
   "cell_type": "code",
   "execution_count": 27,
   "id": "9b0ba6ef",
   "metadata": {},
   "outputs": [
    {
     "data": {
      "text/plain": [
       "array([[54, 46],\n",
       "       [35, 65]], dtype=int64)"
      ]
     },
     "execution_count": 27,
     "metadata": {},
     "output_type": "execute_result"
    }
   ],
   "source": [
    "cm_test_cv2 = confusion_matrix(y_test, y_test_pred_cv2)\n",
    "cm_test_cv2"
   ]
  },
  {
   "cell_type": "code",
   "execution_count": 28,
   "id": "59653c0a",
   "metadata": {},
   "outputs": [
    {
     "name": "stdout",
     "output_type": "stream",
     "text": [
      "              precision    recall  f1-score   support\n",
      "\n",
      "     Alien 0       0.61      0.54      0.57       100\n",
      "  Predator 1       0.59      0.65      0.62       100\n",
      "\n",
      "    accuracy                           0.59       200\n",
      "   macro avg       0.60      0.59      0.59       200\n",
      "weighted avg       0.60      0.59      0.59       200\n",
      "\n"
     ]
    }
   ],
   "source": [
    "target_names = ['Alien 0', 'Predator 1']\n",
    "print(classification_report(y_test, y_test_pred_cv2, target_names=target_names))"
   ]
  },
  {
   "cell_type": "code",
   "execution_count": 29,
   "id": "1e4d29e9",
   "metadata": {},
   "outputs": [
    {
     "data": {
      "image/png": "[encoded data removed]",
      "text/plain": [
       "<Figure size 432x288 with 1 Axes>"
      ]
     },
     "metadata": {
      "needs_background": "light"
     },
     "output_type": "display_data"
    }
   ],
   "source": [
    "#COURBE ROC\n",
    "\n",
    "FP_rate = []\n",
    "TP_rate = []\n",
    "\n",
    "for seuil in AUC_keras.thresholds[1:-1] :\n",
    "    FP_rate_seuil = tensorflow.keras.metrics.FalsePositives(thresholds=seuil)\n",
    "    FP_rate_seuil.update_state(y_test, model_cv2.predict(X_test).flatten())\n",
    "    \n",
    "    FP_rate.append(FP_rate_seuil.result().numpy())\n",
    "    \n",
    "    \n",
    "    TP_rate_seuil = tensorflow.keras.metrics.TruePositives(thresholds=seuil)\n",
    "    TP_rate_seuil.update_state(y_test, model_cv2.predict(X_test).flatten())\n",
    "    \n",
    "    TP_rate.append(TP_rate_seuil.result().numpy())\n",
    "\n",
    "    \n",
    "    \n",
    "#print(TP_rate)\n",
    "#print(FP_rate)\n",
    "    \n",
    "fig = plt.figure()\n",
    "plt.plot(FP_rate, TP_rate)\n",
    "plt.xlabel('FP_rate: False positive rate')\n",
    "plt.ylabel('TP_rate: True positive rate')\n",
    "plt.show()   "
   ]
  },
  {
   "cell_type": "code",
   "execution_count": null,
   "id": "a3f8b5b8",
   "metadata": {},
   "outputs": [],
   "source": []
  },
  {
   "cell_type": "code",
   "execution_count": null,
   "id": "6d4e50b1",
   "metadata": {},
   "outputs": [],
   "source": []
  },
  {
   "cell_type": "code",
   "execution_count": null,
   "id": "2dcb4145",
   "metadata": {},
   "outputs": [],
   "source": []
  },
  {
   "cell_type": "code",
   "execution_count": null,
   "id": "c159086f",
   "metadata": {},
   "outputs": [],
   "source": []
  },
  {
   "cell_type": "markdown",
   "id": "f8db7acb",
   "metadata": {},
   "source": [
    "#オリジナルの画像からデータセットを作成する方法 \n",
    "\n",
    "https://intellectual-curiosity.tokyo/2019/07/02/%E3%82%AA%E3%83%AA%E3%82%B8%E3%83%8A%E3%83%AB%E3%81%AE%E7%94%BB%E5%83%8F%E3%81%8B%E3%82%89%E3%83%87%E3%83%BC%E3%82%BF%E3%82%BB%E3%83%83%E3%83%88%E3%82%92%E4%BD%9C%E6%88%90%E3%81%99%E3%82%8B%E6%96%B9/"
   ]
  },
  {
   "cell_type": "markdown",
   "id": "da9fe197",
   "metadata": {},
   "source": [
    "https://child-programmer.com/ai/cnn-originaldataset-samplecode-description/\n",
    "\n",
    "https://qiita.com/kenichiro-yamato/items/60affeb7ca9f67c87a17\n",
    "\n",
    "matplotlibのcmap(colormap)パラメータ\n",
    "https://beiznotes.org/matplot-cmap-list/"
   ]
  },
  {
   "cell_type": "code",
   "execution_count": null,
   "id": "51bb2a9b",
   "metadata": {},
   "outputs": [],
   "source": []
  },
  {
   "cell_type": "code",
   "execution_count": null,
   "id": "154e2f8c",
   "metadata": {},
   "outputs": [],
   "source": []
  }
 ],
 "metadata": {
  "kernelspec": {
   "display_name": "Python 3 (ipykernel)",
   "language": "python",
   "name": "python3"
  },
  "language_info": {
   "codemirror_mode": {
    "name": "ipython",
    "version": 3
   },
   "file_extension": ".py",
   "mimetype": "text/x-python",
   "name": "python",
   "nbconvert_exporter": "python",
   "pygments_lexer": "ipython3",
   "version": "3.9.7"
  }
 },
 "nbformat": 4,
 "nbformat_minor": 5
}
